{
 "cells": [
  {
   "cell_type": "code",
   "execution_count": 1,
   "id": "d991728b-2bd3-49e0-af4d-c657b1d7b6b7",
   "metadata": {},
   "outputs": [
    {
     "name": "stdout",
     "output_type": "stream",
     "text": [
      "begin_inventory.csv\n",
      "end_inventory.csv\n",
      "purchases.csv\n",
      "purchase_prices.csv\n",
      "sales.csv\n",
      "vendor_invoice.csv\n"
     ]
    }
   ],
   "source": [
    "import pandas as pd \n",
    "import os\n",
    "from sqlalchemy import create_engine \n",
    "import logging\n",
    "import time \n",
    "logging.basicConfig(\n",
    "    filename=\"logs/ingestion_db.log\",\n",
    "    level=logging.DEBUG,\n",
    "    format=\"%(asctime)s - %(levelname)s -%(message)s\",\n",
    "    filemode=\"a\"\n",
    ")\n",
    "engine = create_engine('sqlite:///inventory.db') \n",
    "\n",
    "def ingest_db(df, table_name, engine):\n",
    "    df.to_sql(table_name, con = engine, if_exists = 'replace', \n",
    "              index= False) \n",
    "def load_raw_data():\n",
    "   start = time.time()\n",
    "   for file in os.listdir('database'):\n",
    "      if file.endswith('.csv'):\n",
    "         print(file) \n",
    "         df = pd.read_csv( 'database/'+file) \n",
    "         logging.info(f'ingesting {file} in db') \n",
    "         ingest_db(df, file[:-4], engine) \n",
    "   end = time.time()\n",
    "   total_time = (end - start)/60\n",
    "   logging.info('ingestion Complete')\n",
    "      \n",
    "   logging.info(f'\\nTotal time: {total_time} minutes') \n",
    "        \n",
    "if __name__ == '__main__': \n",
    "            load_raw_data()"
   ]
  },
  {
   "cell_type": "code",
   "execution_count": null,
   "id": "e78b1537-f695-4189-90f3-5971d821ae39",
   "metadata": {},
   "outputs": [],
   "source": []
  }
 ],
 "metadata": {
  "kernelspec": {
   "display_name": "Python 3 (ipykernel)",
   "language": "python",
   "name": "python3"
  },
  "language_info": {
   "codemirror_mode": {
    "name": "ipython",
    "version": 3
   },
   "file_extension": ".py",
   "mimetype": "text/x-python",
   "name": "python",
   "nbconvert_exporter": "python",
   "pygments_lexer": "ipython3",
   "version": "3.13.5"
  }
 },
 "nbformat": 4,
 "nbformat_minor": 5
}
